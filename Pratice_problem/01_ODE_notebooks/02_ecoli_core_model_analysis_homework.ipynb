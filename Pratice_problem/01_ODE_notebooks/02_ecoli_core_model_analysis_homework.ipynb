{
 "cells": [
  {
   "cell_type": "markdown",
   "metadata": {},
   "source": [
    "# E. coli Core Model Analysis\n",
    "\n",
    "This notebook demonstrates how to analyze a real genome-scale metabolic model of *Escherichia coli* using Flux Balance Analysis (FBA) and related techniques.\n"
   ]
  },
  {
   "cell_type": "code",
   "execution_count": null,
   "metadata": {},
   "outputs": [],
   "source": [
    "# Import necessary libraries\n",
    "import cobra\n",
    "import numpy as np\n",
    "import pandas as pd\n",
    "import matplotlib.pyplot as plt\n",
    "import seaborn as sns\n",
    "from cobra.flux_analysis import flux_variability_analysis, pfba\n",
    "\n",
    "# Set plotting style\n",
    "sns.set_style(\"whitegrid\")\n",
    "sns.set_palette('muted')\n",
    "sns.set_context('notebook', font_scale=1.5)\n",
    "\n",
    "# Display plots inline\n",
    "%matplotlib inline"
   ]
  },
  {
   "cell_type": "markdown",
   "metadata": {},
   "source": [
    "## Loading the E. coli Core Model\n",
    "\n",
    "We'll use the E. coli core model, which is a simplified version of the genome-scale model that includes central metabolism pathways."
   ]
  },
  {
   "cell_type": "code",
   "execution_count": null,
   "metadata": {},
   "outputs": [],
   "source": [
    "from cobra.io import read_sbml_model\n",
    "import urllib.request\n",
    "\n",
    "# Download the E. coli core SBML file\n",
    "url = \"https://systemsbiology.ucsd.edu/sites/systemsbiology.ucsd.edu/files/Attachments/Images/downloads/Ecoli_core/ecoli_core_model.xml\"\n",
    "urllib.request.urlretrieve(url, \"ecoli_core_model.xml\")\n",
    "\n",
    "# Load model\n",
    "model = read_sbml_model(\"ecoli_core_model.xml\")\n",
    "print(\"Model:\", model.id)\n",
    "print(\"Reactions:\", len(model.reactions))\n",
    "print(\"Metabolites:\", len(model.metabolites))\n",
    "\n"
   ]
  },
  {
   "cell_type": "markdown",
   "metadata": {},
   "source": [
    "## Exploring the Model\n",
    "\n",
    "Explore the model structure, including reactions, metabolites, and genes."
   ]
  },
  {
   "cell_type": "markdown",
   "metadata": {},
   "source": [
    "## Running Flux Balance Analysis\n",
    "Run FBA on the E. coli model to predict optimal growth under default conditions."
   ]
  },
  {
   "cell_type": "markdown",
   "metadata": {},
   "source": [
    "## Plot the Stoichiometrix matrix (heatmap)\n"
   ]
  },
  {
   "cell_type": "markdown",
   "metadata": {},
   "source": [
    "## Plot the network analysis"
   ]
  },
  {
   "cell_type": "code",
   "execution_count": null,
   "metadata": {},
   "outputs": [],
   "source": []
  }
 ],
 "metadata": {
  "kernelspec": {
   "display_name": "Python 3 (ipykernel)",
   "language": "python",
   "name": "python3"
  },
  "language_info": {
   "codemirror_mode": {
    "name": "ipython",
    "version": 3
   },
   "file_extension": ".py",
   "mimetype": "text/x-python",
   "name": "python",
   "nbconvert_exporter": "python",
   "pygments_lexer": "ipython3",
   "version": "3.11.13"
  }
 },
 "nbformat": 4,
 "nbformat_minor": 4
}

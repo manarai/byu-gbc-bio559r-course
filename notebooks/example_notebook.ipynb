{
 "cells": [
  {
   "cell_type": "markdown",
   "metadata": {},
   "source": [
    "# BIO559R Example Notebook: Single-Cell Analysis with Python and R\n",
    "\n",
    "This notebook demonstrates the basic workflow for single-cell RNA-seq analysis using both Python (scanpy) and R (Seurat/ggplot2) in a single Jupyter notebook.\n",
    "\n",
    "**Author:** BIO559R Tutorial  \n",
    "**Course:** Introduction to Systems Biology"
   ]
  },
  {
   "cell_type": "markdown",
   "metadata": {},
   "source": [
    "## 1. Setup and Data Loading\n",
    "\n",
    "First, let's import the necessary Python libraries and load the R magic extension."
   ]
  },
  {
   "cell_type": "code",
   "execution_count": null,
   "metadata": {},
   "outputs": [],
   "source": [
    "# Import Python libraries\n",
    "import scanpy as sc\n",
    "import pandas as pd\n",
    "import numpy as np\n",
    "import matplotlib.pyplot as plt\n",
    "import seaborn as sns\n",
    "\n",
    "# Configure scanpy settings\n",
    "sc.settings.verbosity = 3  # verbosity level\n",
    "sc.settings.set_figure_params(dpi=80, facecolor='white')\n",
    "\n",
    "print(f\"Scanpy version: {sc.__version__}\")\n",
    "print(f\"Pandas version: {pd.__version__}\")\n",
    "print(f\"NumPy version: {np.__version__}\")"
   ]
  },
  {
   "cell_type": "code",
   "execution_count": null,
   "metadata": {},
   "outputs": [],
   "source": [
    "# Load R magic extension\n",
    "%load_ext rpy2.ipython\n",
    "print(\"R magic extension loaded successfully!\")"
   ]
  },
  {
   "cell_type": "markdown",
   "metadata": {},
   "source": [
    "## 2. Create Synthetic Single-Cell Data\n",
    "\n",
    "For this example, we'll create a synthetic single-cell dataset to demonstrate the analysis workflow."
   ]
  },
  {
   "cell_type": "code",
   "execution_count": null,
   "metadata": {},
   "outputs": [],
   "source": [
    "# Create synthetic single-cell data\n",
    "np.random.seed(42)\n",
    "\n",
    "n_cells = 1000\n",
    "n_genes = 2000\n",
    "\n",
    "# Simulate count data with negative binomial distribution\n",
    "X = np.random.negative_binomial(5, 0.3, (n_cells, n_genes))\n",
    "\n",
    "# Create AnnData object\n",
    "adata = sc.AnnData(X)\n",
    "\n",
    "# Add gene and cell names\n",
    "adata.var_names = [f'Gene_{i:04d}' for i in range(n_genes)]\n",
    "adata.obs_names = [f'Cell_{i:04d}' for i in range(n_cells)]\n",
    "\n",
    "# Add some metadata\n",
    "adata.obs['batch'] = np.random.choice(['Batch_A', 'Batch_B'], n_cells)\n",
    "adata.obs['cell_type'] = np.random.choice(['Type_1', 'Type_2', 'Type_3'], n_cells)\n",
    "\n",
    "print(f\"Created AnnData object with {adata.n_obs} cells and {adata.n_vars} genes\")\n",
    "print(adata)"
   ]
  },
  {
   "cell_type": "markdown",
   "metadata": {},
   "source": [
    "## 3. Quality Control and Preprocessing with Scanpy"
   ]
  },
  {
   "cell_type": "code",
   "execution_count": null,
   "metadata": {},
   "outputs": [],
   "source": [
    "# Calculate QC metrics\n",
    "adata.var['mt'] = adata.var_names.str.startswith('MT-')  # mitochondrial genes\n",
    "sc.pp.calculate_qc_metrics(adata, percent_top=None, log1p=False, inplace=True)\n",
    "\n",
    "# Add number of genes per cell\n",
    "adata.obs['n_genes'] = (adata.X > 0).sum(axis=1)\n",
    "\n",
    "print(\"QC metrics calculated\")\n",
    "print(f\"Mean genes per cell: {adata.obs['n_genes'].mean():.1f}\")\n",
    "print(f\"Mean UMIs per cell: {adata.obs['total_counts'].mean():.1f}\")"
   ]
  },
  {
   "cell_type": "code",
   "execution_count": null,
   "metadata": {},
   "outputs": [],
   "source": [
    "# Preprocessing steps\n",
    "print(\"Starting preprocessing...\")\n",
    "\n",
    "# Filter cells and genes\n",
    "sc.pp.filter_cells(adata, min_genes=200)\n",
    "sc.pp.filter_genes(adata, min_cells=3)\n",
    "\n",
    "# Save raw data\n",
    "adata.raw = adata\n",
    "\n",
    "# Normalize to 10,000 reads per cell\n",
    "sc.pp.normalize_total(adata, target_sum=1e4)\n",
    "\n",
    "# Log transform\n",
    "sc.pp.log1p(adata)\n",
    "\n",
    "# Find highly variable genes\n",
    "sc.pp.highly_variable_genes(adata, min_mean=0.0125, max_mean=3, min_disp=0.5)\n",
    "\n",
    "# Keep only highly variable genes\n",
    "adata = adata[:, adata.var.highly_variable]\n",
    "\n",
    "# Scale data\n",
    "sc.pp.scale(adata, max_value=10)\n",
    "\n",
    "print(f\"After preprocessing: {adata.n_obs} cells, {adata.n_vars} highly variable genes\")"
   ]
  },
  {
   "cell_type": "markdown",
   "metadata": {},
   "source": [
    "## 4. Dimensionality Reduction and Clustering"
   ]
  },
  {
   "cell_type": "code",
   "execution_count": null,
   "metadata": {},
   "outputs": [],
   "source": [
    "# Principal component analysis\n",
    "sc.tl.pca(adata, svd_solver='arpack')\n",
    "\n",
    "# Compute neighborhood graph\n",
    "sc.pp.neighbors(adata, n_neighbors=10, n_pcs=40)\n",
    "\n",
    "# Perform UMAP embedding\n",
    "sc.tl.umap(adata)\n",
    "\n",
    "# Leiden clustering\n",
    "sc.tl.leiden(adata, resolution=0.5)\n",
    "\n",
    "print(\"Dimensionality reduction and clustering completed\")\n",
    "print(f\"Number of clusters found: {len(adata.obs['leiden'].unique())}\")"
   ]
  },
  {
   "cell_type": "code",
   "execution_count": null,
   "metadata": {},
   "outputs": [],
   "source": [
    "# Visualize results with scanpy\n",
    "fig, axes = plt.subplots(1, 3, figsize=(15, 4))\n",
    "\n",
    "sc.pl.umap(adata, color='leiden', ax=axes[0], show=False, frameon=False)\n",
    "axes[0].set_title('Leiden Clusters')\n",
    "\n",
    "sc.pl.umap(adata, color='batch', ax=axes[1], show=False, frameon=False)\n",
    "axes[1].set_title('Batch')\n",
    "\n",
    "sc.pl.umap(adata, color='cell_type', ax=axes[2], show=False, frameon=False)\n",
    "axes[2].set_title('Cell Type (Simulated)')\n",
    "\n",
    "plt.tight_layout()\n",
    "plt.show()"
   ]
  },
  {
   "cell_type": "markdown",
   "metadata": {},
   "source": [
    "## 5. Using R for Advanced Visualization\n",
    "\n",
    "Now let's transfer our data to R and create publication-quality plots using ggplot2."
   ]
  },
  {
   "cell_type": "code",
   "execution_count": null,
   "metadata": {},
   "outputs": [],
   "source": [
    "# Prepare data for R\n",
    "umap_coords = adata.obsm['X_umap']\n",
    "plot_df = pd.DataFrame({\n",
    "    'UMAP1': umap_coords[:, 0],\n",
    "    'UMAP2': umap_coords[:, 1],\n",
    "    'leiden_cluster': adata.obs['leiden'].values,\n",
    "    'batch': adata.obs['batch'].values,\n",
    "    'cell_type': adata.obs['cell_type'].values,\n",
    "    'n_genes': adata.obs['n_genes'].values\n",
    "})\n",
    "\n",
    "print(f\"Prepared data frame with {len(plot_df)} cells for R visualization\")\n",
    "print(plot_df.head())"
   ]
  },
  {
   "cell_type": "code",
   "execution_count": null,
   "metadata": {},
   "outputs": [],
   "source": [
    "%%R -i plot_df -w 12 -h 8\n",
    "\n",
    "# Load required R libraries\n",
    "library(ggplot2)\n",
    "library(dplyr)\n",
    "\n",
    "# Create a publication-quality UMAP plot\n",
    "p1 <- ggplot(plot_df, aes(x = UMAP1, y = UMAP2, color = leiden_cluster)) +\n",
    "    geom_point(size = 0.8, alpha = 0.7) +\n",
    "    theme_classic() +\n",
    "    theme(\n",
    "        axis.text = element_text(size = 12),\n",
    "        axis.title = element_text(size = 14),\n",
    "        legend.title = element_text(size = 12),\n",
    "        legend.text = element_text(size = 10),\n",
    "        plot.title = element_text(size = 16, hjust = 0.5)\n",
    "    ) +\n",
    "    labs(\n",
    "        title = \"Single-Cell UMAP Visualization\",\n",
    "        x = \"UMAP 1\",\n",
    "        y = \"UMAP 2\",\n",
    "        color = \"Leiden\\nCluster\"\n",
    "    ) +\n",
    "    guides(color = guide_legend(override.aes = list(size = 3)))\n",
    "\n",
    "print(p1)"
   ]
  },
  {
   "cell_type": "code",
   "execution_count": null,
   "metadata": {},
   "outputs": [],
   "source": [
    "%%R -w 14 -h 6\n",
    "\n",
    "# Create a multi-panel plot\n",
    "library(gridExtra)\n",
    "\n",
    "# Plot by batch\n",
    "p2 <- ggplot(plot_df, aes(x = UMAP1, y = UMAP2, color = batch)) +\n",
    "    geom_point(size = 0.8, alpha = 0.7) +\n",
    "    theme_classic() +\n",
    "    labs(title = \"Batch Effect\", x = \"UMAP 1\", y = \"UMAP 2\", color = \"Batch\") +\n",
    "    theme(plot.title = element_text(hjust = 0.5))\n",
    "\n",
    "# Plot by number of genes\n",
    "p3 <- ggplot(plot_df, aes(x = UMAP1, y = UMAP2, color = n_genes)) +\n",
    "    geom_point(size = 0.8, alpha = 0.7) +\n",
    "    scale_color_viridis_c() +\n",
    "    theme_classic() +\n",
    "    labs(title = \"Number of Genes\", x = \"UMAP 1\", y = \"UMAP 2\", color = \"Genes\") +\n",
    "    theme(plot.title = element_text(hjust = 0.5))\n",
    "\n",
    "# Combine plots\n",
    "grid.arrange(p2, p3, ncol = 2)"
   ]
  },
  {
   "cell_type": "markdown",
   "metadata": {},
   "source": [
    "## 6. Statistical Analysis with R\n",
    "\n",
    "Let's perform some statistical analysis using R's powerful statistical functions."
   ]
  },
  {
   "cell_type": "code",
   "execution_count": null,
   "metadata": {},
   "outputs": [],
   "source": [
    "%%R\n",
    "\n",
    "# Statistical summary by cluster\n",
    "cluster_stats <- plot_df %>%\n",
    "    group_by(leiden_cluster) %>%\n",
    "    summarise(\n",
    "        n_cells = n(),\n",
    "        mean_genes = mean(n_genes),\n",
    "        sd_genes = sd(n_genes),\n",
    "        .groups = 'drop'\n",
    "    )\n",
    "\n",
    "print(\"Cluster Statistics:\")\n",
    "print(cluster_stats)\n",
    "\n",
    "# ANOVA test for differences in gene count between clusters\n",
    "anova_result <- aov(n_genes ~ leiden_cluster, data = plot_df)\n",
    "print(\"\\nANOVA Results:\")\n",
    "print(summary(anova_result))"
   ]
  },
  {
   "cell_type": "code",
   "execution_count": null,
   "metadata": {},
   "outputs": [],
   "source": [
    "%%R -w 10 -h 6\n",
    "\n",
    "# Create a boxplot showing gene count distribution by cluster\n",
    "p4 <- ggplot(plot_df, aes(x = leiden_cluster, y = n_genes, fill = leiden_cluster)) +\n",
    "    geom_boxplot(alpha = 0.7) +\n",
    "    geom_jitter(width = 0.2, alpha = 0.3, size = 0.5) +\n",
    "    theme_classic() +\n",
    "    labs(\n",
    "        title = \"Gene Count Distribution by Cluster\",\n",
    "        x = \"Leiden Cluster\",\n",
    "        y = \"Number of Genes\",\n",
    "        fill = \"Cluster\"\n",
    "    ) +\n",
    "    theme(\n",
    "        plot.title = element_text(hjust = 0.5, size = 14),\n",
    "        axis.text = element_text(size = 12),\n",
    "        axis.title = element_text(size = 12)\n",
    "    )\n",
    "\n",
    "print(p4)"
   ]
  },
  {
   "cell_type": "markdown",
   "metadata": {},
   "source": [
    "## 7. Transferring Results Back to Python\n",
    "\n",
    "We can also transfer results from R back to Python for further analysis."
   ]
  },
  {
   "cell_type": "code",
   "execution_count": null,
   "metadata": {},
   "outputs": [],
   "source": [
    "%%R -o cluster_stats_r\n",
    "\n",
    "# This will transfer the cluster_stats data frame to Python\n",
    "cluster_stats_r <- cluster_stats"
   ]
  },
  {
   "cell_type": "code",
   "execution_count": null,
   "metadata": {},
   "outputs": [],
   "source": [
    "# Now we can use the R results in Python\n",
    "print(\"Cluster statistics transferred from R:\")\n",
    "print(cluster_stats_r)\n",
    "print(f\"\\nData type: {type(cluster_stats_r)}\")\n",
    "\n",
    "# Convert to pandas DataFrame if needed\n",
    "cluster_stats_pd = pd.DataFrame(cluster_stats_r)\n",
    "print(f\"\\nAs pandas DataFrame:\")\n",
    "print(cluster_stats_pd)"
   ]
  },
  {
   "cell_type": "markdown",
   "metadata": {},
   "source": [
    "## 8. Summary\n",
    "\n",
    "This notebook demonstrated:\n",
    "\n",
    "1. **Setting up the environment** with both Python and R packages\n",
    "2. **Creating and preprocessing single-cell data** using scanpy\n",
    "3. **Performing dimensionality reduction and clustering** with scanpy\n",
    "4. **Creating publication-quality visualizations** with R and ggplot2\n",
    "5. **Statistical analysis** using R's statistical functions\n",
    "6. **Seamless data transfer** between Python and R environments\n",
    "\n",
    "This workflow demonstrates the power of combining Python's computational efficiency (scanpy) with R's statistical and visualization capabilities (ggplot2, statistical tests) in a single analysis pipeline.\n",
    "\n",
    "### Next Steps\n",
    "\n",
    "- Try this workflow with real single-cell RNA-seq data\n",
    "- Explore more advanced scanpy functions for trajectory analysis\n",
    "- Learn about spatial transcriptomics analysis with squidpy\n",
    "- Experiment with different R packages for specialized analyses"
   ]
  }
 ],
 "metadata": {
  "kernelspec": {
   "display_name": "Python 3",
   "language": "python",
   "name": "python3"
  },
  "language_info": {
   "codemirror_mode": {
    "name": "ipython",
    "version": 3
   },
   "file_extension": ".py",
   "mimetype": "text/x-python",
   "name": "python",
   "nbconvert_exporter": "python",
   "pygments_lexer": "ipython3",
   "version": "3.9.0"
  }
 },
 "nbformat": 4,
 "nbformat_minor": 4
}

